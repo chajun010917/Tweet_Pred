{
 "cells": [
  {
   "cell_type": "code",
   "execution_count": 1,
   "metadata": {},
   "outputs": [],
   "source": [
    "import os\n",
    "from openai import OpenAI\n",
    "import pandas as pd\n",
    "from dotenv import load_dotenv\n",
    "\n",
    "load_dotenv()\n",
    "client = OpenAI(api_key=os.getenv(\"OPENAI_API_KEY\"))\n",
    "original_data = pd.read_csv(\"./Q2_20230202_majority_top_30.csv\")[['tweet', 'label_true']]\n",
    "\n",
    "def generate_tweet(twt, label):\n",
    "    prompt = (\n",
    "        f\"Here is an example of a tweet about COVID-19 vaccination with a '{label}' stance:\\n\"\n",
    "        f\"Original Tweet: {twt}\\n\\n\"\n",
    "        f\"Now make a creative modification to the tweet while keeping the stance '{label}'.\"\n",
    "        f\"Make sure the stance of the tweet is '{label}', and only answer in this format: \\\"Tweet: <modified_tweet> Stance: <stance>\\\".\"\n",
    "    )\n",
    "    response = client.chat.completions.create(\n",
    "        model=\"gpt-4o\",\n",
    "        messages=[\n",
    "            {\"role\": \"system\", \"content\": \"You are a creative person that likes to tweet about COVID-19 vaccination. You will come up with new tweets every time which vary in length. Always respond with the format: Tweet: <modified_tweet> Stance: <stance>.\"},\n",
    "            {\"role\": \"user\", \"content\": prompt},\n",
    "        ],\n",
    "        max_tokens=150,\n",
    "        n=1,\n",
    "        stop=None,\n",
    "        temperature=0.65,  \n",
    "        top_p=0.95\n",
    "    )\n",
    "    content = response.choices[0].message.content.strip()\n",
    "    tweet = content.split(\"Tweet: \")[1].split(\" Stance:\")[0].strip()\n",
    "    label = content.split(\"Stance: \")[1].strip()\n",
    "    return tweet, label\n",
    "\n",
    "tweets = []\n",
    "labels = []\n",
    "stances = {'in-favor': 10, 'against': 24, 'neutral-or-unclear': 37}\n",
    "\n",
    "for _ , row in original_data.iterrows():\n",
    "    og_tweet = row['tweet']\n",
    "    stance = row['label_true']\n",
    "    tweets.append(og_tweet)\n",
    "    labels.append(stance)\n",
    "    for _ in range(stances.get(stance, 1)):\n",
    "        tweet, label = generate_tweet(og_tweet, stance)\n",
    "        tweets.append(tweet)\n",
    "        labels.append(label)\n",
    "\n",
    "df = pd.DataFrame({\n",
    "    'tweet': tweets,\n",
    "    'label_true': labels\n",
    "})\n",
    "df.to_csv('aug_data1.csv', index=False)\n"
   ]
  }
 ],
 "metadata": {
  "kernelspec": {
   "display_name": "Python 3",
   "language": "python",
   "name": "python3"
  },
  "language_info": {
   "codemirror_mode": {
    "name": "ipython",
    "version": 3
   },
   "file_extension": ".py",
   "mimetype": "text/x-python",
   "name": "python",
   "nbconvert_exporter": "python",
   "pygments_lexer": "ipython3",
   "version": "3.11.9"
  }
 },
 "nbformat": 4,
 "nbformat_minor": 2
}
